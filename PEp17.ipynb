{
  "nbformat": 4,
  "nbformat_minor": 0,
  "metadata": {
    "colab": {
      "name": "CR.ipynb",
      "provenance": [],
      "collapsed_sections": [],
      "authorship_tag": "ABX9TyM2VuG12qjfSpox/XyX2sl6"
    },
    "kernelspec": {
      "display_name": "Python 3",
      "name": "python3"
    },
    "language_info": {
      "name": "python"
    }
  },
  "cells": [
    {
      "cell_type": "code",
      "metadata": {
        "id": "h2NAaGhguZns"
      },
      "source": [
        "import inflect\n",
        "\n",
        "p = inflect.engine()\n",
        "\n",
        "count = 0\n",
        "\n",
        "for i in range(1, 1001):\n",
        "  count = count + len(p.number_to_words(i).replace(\"-\", \" \").replace(\" \", \"\"))\n",
        "\n",
        "print(count)"
      ],
      "execution_count": null,
      "outputs": []
    }
  ]
}